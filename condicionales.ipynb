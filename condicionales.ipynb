{
  "nbformat": 4,
  "nbformat_minor": 0,
  "metadata": {
    "colab": {
      "provenance": [],
      "toc_visible": true,
      "authorship_tag": "ABX9TyNaJRb4tJ2C81+l4yw8Bmuk",
      "include_colab_link": true
    },
    "kernelspec": {
      "name": "python3",
      "display_name": "Python 3"
    },
    "language_info": {
      "name": "python"
    }
  },
  "cells": [
    {
      "cell_type": "markdown",
      "metadata": {
        "id": "view-in-github",
        "colab_type": "text"
      },
      "source": [
        "<a href=\"https://colab.research.google.com/github/Netjose0101/ejercicios/blob/main/condicionales.ipynb\" target=\"_parent\"><img src=\"https://colab.research.google.com/assets/colab-badge.svg\" alt=\"Open In Colab\"/></a>"
      ]
    },
    {
      "cell_type": "code",
      "execution_count": null,
      "metadata": {
        "id": "2N8wsWxF8Pa4"
      },
      "outputs": [],
      "source": [
        "# ejercicios sobre  condicionales\n",
        "presentado por: Jose tomas arredondo\n",
        "Email: jose.arredondoc@upb.edu.co"
      ]
    },
    {
      "cell_type": "markdown",
      "source": [
        "# algoritmo de ejercicios sobre condicionales\n",
        "inicia\n",
        "obtenr el numero de niños que entrararan a la funcion\n",
        "obtener el numero de adultos que entraran a la funcion\n",
        "obtener la horab de la funcion (0-24)\n",
        "determina el total dependiendo la hora de la funcion\n",
        "-si la hora es menor a 18, entonces total= num_niños*¨5000 + numero de adultos* 7500\n",
        "-si la hora es mauyor o iguall a 18, entonces total= num_niños*¨7500 + numero de adultos* 10000\n",
        "mostar total\n",
        "si el total es mayor a $50000, indicar que se han ganado una crispeta\n",
        "finalizar\n",
        "\n"
      ],
      "metadata": {
        "id": "9HwemK9cC2c_"
      }
    },
    {
      "cell_type": "markdown",
      "source": [],
      "metadata": {
        "id": "pLL8dlJ-F8RC"
      }
    },
    {
      "cell_type": "markdown",
      "source": [],
      "metadata": {
        "id": "FV6jxV6dDE0O"
      }
    },
    {
      "cell_type": "markdown",
      "source": [
        "Pseudocódigo\n",
        "Start\n",
        "  // Programa para calcular el total de las entradas a cine\n",
        "  Declare Int num_ninos\n",
        "  Declare Int num_adultos\n",
        "  Declare Int hora\n",
        "  Declare Float total\n",
        "  Display \"Ingrese el número de niños: \"\n",
        "  Input num_ninos\n",
        "  Display \"Ingrese el número de adultos: \"\n",
        "  Input num_adultos\n",
        "  Display \"Ingrese la hora de la función (0 - 23): \"\n",
        "  Input hora\n",
        "  \n",
        "  // Determinar el total a pagar dependiendo de la hora de la función\n",
        "  If hora < 18 Then\n",
        "    total = num_ninos * 5000 + num_adultos * 7500\n",
        "  Else\n",
        "    total = (num_ninos + num_adultos) * 10000\n",
        "  End If\n",
        "  \n",
        "  Display \"El total a pagar es \", total\n",
        "\n",
        "  // Determinar si el grupo se gana unas crispetas\n",
        "  If total > 50000 Then\n",
        "    Display \"Se ha ganado unas crispetas familiar.\"\n",
        "  End If\n",
        "  \n",
        "  Display \"Disfrute de la función :)\"\n",
        "\n",
        "End"
      ],
      "metadata": {
        "id": "kfxpFlSaDQRG"
      }
    },
    {
      "cell_type": "code",
      "source": [
        "# Programa para calcular el total de las entradas a cine\n",
        "num_ninos = 0  # Declare Int num_ninos\n",
        "num_adultos = 0  # Declare Int num_adultos\n",
        "hora = 0  # Declare Int hora\n",
        "total = 0.0  # Declare Float total\n",
        "num_ninos = int(input(\"Ingrese el número de niños: \"))  # Display \"Ingrese el número de niños: \" & Input num_ninos\n",
        "num_adultos = int(input(\"Ingrese el número de adultos: \"))  # Display \"Ingrese el número de adultos: \" & Input num_adultos\n",
        "hora = int(input(\"Ingrese la hora de la función (0 - 23): \"))  # Display \"Ingrese la hora de la función (0 - 23): \" & Input hora\n",
        "\n",
        "# Determinar el total a pagar dependiendo de la hora de la función\n",
        "if hora < 18:  # If hora < 18 Then\n",
        "    total = num_ninos * 5000 + num_adultos * 7500\n",
        "else:  # Else\n",
        "    total = (num_ninos + num_adultos) * 10000\n",
        "\n",
        "print(\"El total a pagar es \", total)  # Display \"El total a pagar es \", total\n",
        "\n",
        "# Determinar si el grupo se gana unas crispetas\n",
        "if total > 50000:  # If total > 50000 Then\n",
        "    print(\"Se ha ganado unas crispetas familiar.\")  # Display \"Se ha ganado unas crispetas familiar.\"\n",
        "\n",
        "print(\"Disfrute de la función :)\")  # Display \"Disfrute de la función :)\""
      ],
      "metadata": {
        "colab": {
          "base_uri": "https://localhost:8080/"
        },
        "id": "x1RmqfZxDrz3",
        "outputId": "df17a9a6-3329-4310-d69d-7bf816d0ff8f"
      },
      "execution_count": 2,
      "outputs": [
        {
          "output_type": "stream",
          "name": "stdout",
          "text": [
            "Ingrese el número de niños: 3\n",
            "Ingrese el número de adultos: 2\n",
            "Ingrese la hora de la función (0 - 23): 8\n",
            "El total a pagar es  30000\n",
            "Disfrute de la función :)\n"
          ]
        }
      ]
    }
  ]
}